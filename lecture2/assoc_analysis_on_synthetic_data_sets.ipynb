{
 "cells": [
  {
   "cell_type": "markdown",
   "id": "80a8b686",
   "metadata": {},
   "source": [
    "## association rule mining on synthetic data sets"
   ]
  },
  {
   "cell_type": "code",
   "execution_count": 1,
   "id": "1a7e5f46",
   "metadata": {},
   "outputs": [],
   "source": [
    "import pandas as pd\n",
    "import numpy as np\n",
    "import matplotlib.pyplot as plt\n",
    "import os\n",
    "import sys\n",
    "\n",
    "from mlxtend.frequent_patterns import apriori, association_rules\n",
    "from mlxtend.preprocessing import TransactionEncoder"
   ]
  },
  {
   "cell_type": "markdown",
   "id": "ded91e45",
   "metadata": {},
   "source": [
    "### generate syntheic data"
   ]
  },
  {
   "cell_type": "code",
   "execution_count": 2,
   "id": "ba9b7563",
   "metadata": {},
   "outputs": [
    {
     "name": "stdout",
     "output_type": "stream",
     "text": [
      "3.0166\n"
     ]
    },
    {
     "data": {
      "text/plain": [
       "(10000, 10000)"
      ]
     },
     "execution_count": 2,
     "metadata": {},
     "output_type": "execute_result"
    }
   ],
   "source": [
    "sparsity = 0.0003\n",
    "num_items = 10000  # 1000\n",
    "num_transactions = 10000  # 1000\n",
    "np.random.seed(42)\n",
    "transf_trans_ndarray = np.random.choice([0, 1], size=(num_transactions, num_items), p=[1 - sparsity, sparsity])\n",
    "print(transf_trans_ndarray.sum().sum()/num_transactions)\n",
    "transf_trans_ndarray.shape"
   ]
  },
  {
   "cell_type": "code",
   "execution_count": 3,
   "id": "d2f62d4f",
   "metadata": {},
   "outputs": [
    {
     "data": {
      "text/html": [
       "<div>\n",
       "<style scoped>\n",
       "    .dataframe tbody tr th:only-of-type {\n",
       "        vertical-align: middle;\n",
       "    }\n",
       "\n",
       "    .dataframe tbody tr th {\n",
       "        vertical-align: top;\n",
       "    }\n",
       "\n",
       "    .dataframe thead th {\n",
       "        text-align: right;\n",
       "    }\n",
       "</style>\n",
       "<table border=\"1\" class=\"dataframe\">\n",
       "  <thead>\n",
       "    <tr style=\"text-align: right;\">\n",
       "      <th></th>\n",
       "      <th>Item_0</th>\n",
       "      <th>Item_1</th>\n",
       "      <th>Item_2</th>\n",
       "      <th>Item_3</th>\n",
       "      <th>Item_4</th>\n",
       "      <th>Item_5</th>\n",
       "      <th>Item_6</th>\n",
       "      <th>Item_7</th>\n",
       "      <th>Item_8</th>\n",
       "      <th>Item_9</th>\n",
       "      <th>...</th>\n",
       "      <th>Item_9990</th>\n",
       "      <th>Item_9991</th>\n",
       "      <th>Item_9992</th>\n",
       "      <th>Item_9993</th>\n",
       "      <th>Item_9994</th>\n",
       "      <th>Item_9995</th>\n",
       "      <th>Item_9996</th>\n",
       "      <th>Item_9997</th>\n",
       "      <th>Item_9998</th>\n",
       "      <th>Item_9999</th>\n",
       "    </tr>\n",
       "  </thead>\n",
       "  <tbody>\n",
       "    <tr>\n",
       "      <th>TID_0</th>\n",
       "      <td>0</td>\n",
       "      <td>0</td>\n",
       "      <td>0</td>\n",
       "      <td>0</td>\n",
       "      <td>0</td>\n",
       "      <td>0</td>\n",
       "      <td>0</td>\n",
       "      <td>0</td>\n",
       "      <td>0</td>\n",
       "      <td>0</td>\n",
       "      <td>...</td>\n",
       "      <td>0</td>\n",
       "      <td>0</td>\n",
       "      <td>0</td>\n",
       "      <td>0</td>\n",
       "      <td>0</td>\n",
       "      <td>0</td>\n",
       "      <td>0</td>\n",
       "      <td>0</td>\n",
       "      <td>0</td>\n",
       "      <td>0</td>\n",
       "    </tr>\n",
       "    <tr>\n",
       "      <th>TID_1</th>\n",
       "      <td>0</td>\n",
       "      <td>0</td>\n",
       "      <td>0</td>\n",
       "      <td>0</td>\n",
       "      <td>0</td>\n",
       "      <td>0</td>\n",
       "      <td>0</td>\n",
       "      <td>0</td>\n",
       "      <td>0</td>\n",
       "      <td>0</td>\n",
       "      <td>...</td>\n",
       "      <td>0</td>\n",
       "      <td>0</td>\n",
       "      <td>0</td>\n",
       "      <td>0</td>\n",
       "      <td>0</td>\n",
       "      <td>0</td>\n",
       "      <td>0</td>\n",
       "      <td>0</td>\n",
       "      <td>0</td>\n",
       "      <td>0</td>\n",
       "    </tr>\n",
       "    <tr>\n",
       "      <th>TID_2</th>\n",
       "      <td>0</td>\n",
       "      <td>0</td>\n",
       "      <td>0</td>\n",
       "      <td>0</td>\n",
       "      <td>0</td>\n",
       "      <td>0</td>\n",
       "      <td>0</td>\n",
       "      <td>0</td>\n",
       "      <td>0</td>\n",
       "      <td>0</td>\n",
       "      <td>...</td>\n",
       "      <td>0</td>\n",
       "      <td>0</td>\n",
       "      <td>0</td>\n",
       "      <td>0</td>\n",
       "      <td>0</td>\n",
       "      <td>0</td>\n",
       "      <td>0</td>\n",
       "      <td>0</td>\n",
       "      <td>0</td>\n",
       "      <td>0</td>\n",
       "    </tr>\n",
       "    <tr>\n",
       "      <th>TID_3</th>\n",
       "      <td>0</td>\n",
       "      <td>0</td>\n",
       "      <td>0</td>\n",
       "      <td>0</td>\n",
       "      <td>0</td>\n",
       "      <td>0</td>\n",
       "      <td>0</td>\n",
       "      <td>0</td>\n",
       "      <td>0</td>\n",
       "      <td>0</td>\n",
       "      <td>...</td>\n",
       "      <td>0</td>\n",
       "      <td>0</td>\n",
       "      <td>0</td>\n",
       "      <td>0</td>\n",
       "      <td>0</td>\n",
       "      <td>0</td>\n",
       "      <td>0</td>\n",
       "      <td>0</td>\n",
       "      <td>0</td>\n",
       "      <td>0</td>\n",
       "    </tr>\n",
       "    <tr>\n",
       "      <th>TID_4</th>\n",
       "      <td>0</td>\n",
       "      <td>0</td>\n",
       "      <td>0</td>\n",
       "      <td>0</td>\n",
       "      <td>0</td>\n",
       "      <td>0</td>\n",
       "      <td>0</td>\n",
       "      <td>0</td>\n",
       "      <td>0</td>\n",
       "      <td>0</td>\n",
       "      <td>...</td>\n",
       "      <td>0</td>\n",
       "      <td>0</td>\n",
       "      <td>0</td>\n",
       "      <td>0</td>\n",
       "      <td>0</td>\n",
       "      <td>0</td>\n",
       "      <td>0</td>\n",
       "      <td>0</td>\n",
       "      <td>0</td>\n",
       "      <td>0</td>\n",
       "    </tr>\n",
       "  </tbody>\n",
       "</table>\n",
       "<p>5 rows × 10000 columns</p>\n",
       "</div>"
      ],
      "text/plain": [
       "       Item_0  Item_1  Item_2  Item_3  Item_4  Item_5  Item_6  Item_7  Item_8  \\\n",
       "TID_0       0       0       0       0       0       0       0       0       0   \n",
       "TID_1       0       0       0       0       0       0       0       0       0   \n",
       "TID_2       0       0       0       0       0       0       0       0       0   \n",
       "TID_3       0       0       0       0       0       0       0       0       0   \n",
       "TID_4       0       0       0       0       0       0       0       0       0   \n",
       "\n",
       "       Item_9  ...  Item_9990  Item_9991  Item_9992  Item_9993  Item_9994  \\\n",
       "TID_0       0  ...          0          0          0          0          0   \n",
       "TID_1       0  ...          0          0          0          0          0   \n",
       "TID_2       0  ...          0          0          0          0          0   \n",
       "TID_3       0  ...          0          0          0          0          0   \n",
       "TID_4       0  ...          0          0          0          0          0   \n",
       "\n",
       "       Item_9995  Item_9996  Item_9997  Item_9998  Item_9999  \n",
       "TID_0          0          0          0          0          0  \n",
       "TID_1          0          0          0          0          0  \n",
       "TID_2          0          0          0          0          0  \n",
       "TID_3          0          0          0          0          0  \n",
       "TID_4          0          0          0          0          0  \n",
       "\n",
       "[5 rows x 10000 columns]"
      ]
     },
     "execution_count": 3,
     "metadata": {},
     "output_type": "execute_result"
    }
   ],
   "source": [
    "df = pd.DataFrame(transf_trans_ndarray, columns = ['Item_' + str(i) for i in range(transf_trans_ndarray.shape[1])],\n",
    "                 index = ['TID_' + str(i) for i in range(transf_trans_ndarray.shape[0])])\n",
    "df.head()"
   ]
  },
  {
   "cell_type": "markdown",
   "id": "fbe41b0d",
   "metadata": {},
   "source": [
    "#### inject some patterns"
   ]
  },
  {
   "cell_type": "markdown",
   "id": "43016ed4",
   "metadata": {},
   "source": [
    "#### make some columns frequent itemsets"
   ]
  },
  {
   "cell_type": "code",
   "execution_count": 4,
   "id": "c0674e43",
   "metadata": {},
   "outputs": [],
   "source": [
    "inject_pattern_1 = False"
   ]
  },
  {
   "cell_type": "code",
   "execution_count": 5,
   "id": "23ffdd0a",
   "metadata": {},
   "outputs": [],
   "source": [
    "# make column Item_6 be, on average freq * 100% 1\n",
    "if inject_pattern_1:\n",
    "    freq_items_list = ['Item_6']  # , 'Item_8']  # make random\n",
    "    freq = [0.8]  # , 0.6]  # make random\n",
    "    for freq, freq_item in zip(freq, freq_items_list):\n",
    "        freq_column_vector = np.random.choice([0, 1], size=(df.shape[0], ), p=[1 - freq, freq])\n",
    "        df.loc[:, freq_item] = freq_column_vector"
   ]
  },
  {
   "cell_type": "markdown",
   "id": "6d808f0f",
   "metadata": {},
   "source": [
    "#### create a pattern off the frequent columns"
   ]
  },
  {
   "cell_type": "code",
   "execution_count": 6,
   "id": "44590eb3",
   "metadata": {},
   "outputs": [],
   "source": [
    "inject_pattern_2 = False"
   ]
  },
  {
   "cell_type": "code",
   "execution_count": 7,
   "id": "cbc05404",
   "metadata": {},
   "outputs": [],
   "source": [
    "# make column Item_9 replicate the 1 values in column Item_6 freq_pattern * 100% of the time\n",
    "freq_pattern = 0.5\n",
    "if inject_pattern_2:\n",
    "    for freq_item in freq_items_list:\n",
    "        df.loc[:, 'Item_9'] = np.where(df[freq_item] == 1, \n",
    "                                       np.random.choice([0, 1], size=(df.shape[0], ), \n",
    "                                                        p=[1 - freq_pattern, freq_pattern]), \n",
    "                                       0)"
   ]
  },
  {
   "cell_type": "markdown",
   "id": "04439e3f",
   "metadata": {},
   "source": [
    "### generate frequent itemsets"
   ]
  },
  {
   "cell_type": "code",
   "execution_count": 8,
   "id": "822078c1",
   "metadata": {},
   "outputs": [
    {
     "data": {
      "text/html": [
       "<div>\n",
       "<style scoped>\n",
       "    .dataframe tbody tr th:only-of-type {\n",
       "        vertical-align: middle;\n",
       "    }\n",
       "\n",
       "    .dataframe tbody tr th {\n",
       "        vertical-align: top;\n",
       "    }\n",
       "\n",
       "    .dataframe thead th {\n",
       "        text-align: right;\n",
       "    }\n",
       "</style>\n",
       "<table border=\"1\" class=\"dataframe\">\n",
       "  <thead>\n",
       "    <tr style=\"text-align: right;\">\n",
       "      <th></th>\n",
       "      <th>support</th>\n",
       "      <th>itemsets</th>\n",
       "    </tr>\n",
       "  </thead>\n",
       "  <tbody>\n",
       "  </tbody>\n",
       "</table>\n",
       "</div>"
      ],
      "text/plain": [
       "Empty DataFrame\n",
       "Columns: [support, itemsets]\n",
       "Index: []"
      ]
     },
     "execution_count": 8,
     "metadata": {},
     "output_type": "execute_result"
    }
   ],
   "source": [
    "min_support = 0.01  # 0.5\n",
    "max_len = 2\n",
    "frequent_itemsets = apriori(df.astype(bool), min_support = min_support, max_len = max_len, use_colnames = True)\n",
    "frequent_itemsets"
   ]
  },
  {
   "cell_type": "markdown",
   "id": "2d50fcfd",
   "metadata": {},
   "source": [
    "### generate association rules"
   ]
  },
  {
   "cell_type": "code",
   "execution_count": 9,
   "id": "d60d83c5",
   "metadata": {},
   "outputs": [
    {
     "ename": "ValueError",
     "evalue": "The input DataFrame `df` containing the frequent itemsets is empty.",
     "output_type": "error",
     "traceback": [
      "\u001b[1;31m---------------------------------------------------------------------------\u001b[0m",
      "\u001b[1;31mValueError\u001b[0m                                Traceback (most recent call last)",
      "Input \u001b[1;32mIn [9]\u001b[0m, in \u001b[0;36m<cell line: 2>\u001b[1;34m()\u001b[0m\n\u001b[0;32m      1\u001b[0m min_threshold \u001b[38;5;241m=\u001b[39m \u001b[38;5;241m0.80\u001b[39m\n\u001b[1;32m----> 2\u001b[0m rules \u001b[38;5;241m=\u001b[39m \u001b[43massociation_rules\u001b[49m\u001b[43m(\u001b[49m\u001b[43mfrequent_itemsets\u001b[49m\u001b[43m,\u001b[49m\u001b[43m \u001b[49m\u001b[43mmetric\u001b[49m\u001b[43m \u001b[49m\u001b[38;5;241;43m=\u001b[39;49m\u001b[43m \u001b[49m\u001b[38;5;124;43m\"\u001b[39;49m\u001b[38;5;124;43mconfidence\u001b[39;49m\u001b[38;5;124;43m\"\u001b[39;49m\u001b[43m,\u001b[49m\u001b[43m \u001b[49m\u001b[43mmin_threshold\u001b[49m\u001b[43m \u001b[49m\u001b[38;5;241;43m=\u001b[39;49m\u001b[43m \u001b[49m\u001b[43mmin_threshold\u001b[49m\u001b[43m)\u001b[49m\n\u001b[0;32m      3\u001b[0m rules\n",
      "File \u001b[1;32m~\\anaconda3\\envs\\assoc_analysis\\lib\\site-packages\\mlxtend\\frequent_patterns\\association_rules.py:80\u001b[0m, in \u001b[0;36massociation_rules\u001b[1;34m(df, metric, min_threshold, support_only)\u001b[0m\n\u001b[0;32m     18\u001b[0m \u001b[38;5;124;03m\"\"\"Generates a DataFrame of association rules including the\u001b[39;00m\n\u001b[0;32m     19\u001b[0m \u001b[38;5;124;03mmetrics 'score', 'confidence', and 'lift'\u001b[39;00m\n\u001b[0;32m     20\u001b[0m \n\u001b[1;32m   (...)\u001b[0m\n\u001b[0;32m     77\u001b[0m \n\u001b[0;32m     78\u001b[0m \u001b[38;5;124;03m\"\"\"\u001b[39;00m\n\u001b[0;32m     79\u001b[0m \u001b[38;5;28;01mif\u001b[39;00m \u001b[38;5;129;01mnot\u001b[39;00m df\u001b[38;5;241m.\u001b[39mshape[\u001b[38;5;241m0\u001b[39m]:\n\u001b[1;32m---> 80\u001b[0m     \u001b[38;5;28;01mraise\u001b[39;00m \u001b[38;5;167;01mValueError\u001b[39;00m(\n\u001b[0;32m     81\u001b[0m         \u001b[38;5;124m\"\u001b[39m\u001b[38;5;124mThe input DataFrame `df` containing \u001b[39m\u001b[38;5;124m\"\u001b[39m \u001b[38;5;124m\"\u001b[39m\u001b[38;5;124mthe frequent itemsets is empty.\u001b[39m\u001b[38;5;124m\"\u001b[39m\n\u001b[0;32m     82\u001b[0m     )\n\u001b[0;32m     84\u001b[0m \u001b[38;5;66;03m# check for mandatory columns\u001b[39;00m\n\u001b[0;32m     85\u001b[0m \u001b[38;5;28;01mif\u001b[39;00m \u001b[38;5;129;01mnot\u001b[39;00m \u001b[38;5;28mall\u001b[39m(col \u001b[38;5;129;01min\u001b[39;00m df\u001b[38;5;241m.\u001b[39mcolumns \u001b[38;5;28;01mfor\u001b[39;00m col \u001b[38;5;129;01min\u001b[39;00m [\u001b[38;5;124m\"\u001b[39m\u001b[38;5;124msupport\u001b[39m\u001b[38;5;124m\"\u001b[39m, \u001b[38;5;124m\"\u001b[39m\u001b[38;5;124mitemsets\u001b[39m\u001b[38;5;124m\"\u001b[39m]):\n",
      "\u001b[1;31mValueError\u001b[0m: The input DataFrame `df` containing the frequent itemsets is empty."
     ]
    }
   ],
   "source": [
    "min_threshold = 0.80\n",
    "rules = association_rules(frequent_itemsets, metric = \"confidence\", min_threshold = min_threshold)\n",
    "rules"
   ]
  },
  {
   "cell_type": "code",
   "execution_count": null,
   "id": "06232724",
   "metadata": {},
   "outputs": [],
   "source": []
  }
 ],
 "metadata": {
  "kernelspec": {
   "display_name": "Python (assoc_analysis)",
   "language": "python",
   "name": "assoc_analysis"
  },
  "language_info": {
   "codemirror_mode": {
    "name": "ipython",
    "version": 3
   },
   "file_extension": ".py",
   "mimetype": "text/x-python",
   "name": "python",
   "nbconvert_exporter": "python",
   "pygments_lexer": "ipython3",
   "version": "3.10.4"
  }
 },
 "nbformat": 4,
 "nbformat_minor": 5
}
